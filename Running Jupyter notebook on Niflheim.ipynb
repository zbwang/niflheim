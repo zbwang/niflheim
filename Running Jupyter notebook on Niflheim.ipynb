{
 "cells": [
  {
   "cell_type": "markdown",
   "metadata": {},
   "source": [
    "# You may go through the following steps to run a jupyter notebook on Niflheim"
   ]
  },
  {
   "cell_type": "markdown",
   "metadata": {},
   "source": [
    "## 1. module load jupyter"
   ]
  },
  {
   "cell_type": "markdown",
   "metadata": {},
   "source": [
    "## 2. Run \"jupyter notebook --port=8889\" on a login node (for instance, slid)\n",
    "\n",
    "<font size=\"+2\" color=\"blue\" > Write down the name of the login node you are running the jupyter </font>"
   ]
  },
  {
   "cell_type": "markdown",
   "metadata": {},
   "source": [
    "## 3. Open a terminal on your own laptop, and run \n",
    "## \"ssh -f -N -L 8889:localhost:8889 username@slid.fysik.dtu.dk\"\n",
    "<font size=\"+2\" color=\"blue\"> You may save the above command line into a file on your laptop for future use </font>"
   ]
  },
  {
   "cell_type": "markdown",
   "metadata": {},
   "source": [
    "## 4. Copy/paste the URL generated in $\\color{red}{\\text{Step-2}}$ into your browser to connect the jupyter notebook on remote server"
   ]
  },
  {
   "cell_type": "code",
   "execution_count": null,
   "metadata": {},
   "outputs": [],
   "source": []
  }
 ],
 "metadata": {
  "kernelspec": {
   "display_name": "Python 3",
   "language": "python",
   "name": "python3"
  },
  "language_info": {
   "codemirror_mode": {
    "name": "ipython",
    "version": 3
   },
   "file_extension": ".py",
   "mimetype": "text/x-python",
   "name": "python",
   "nbconvert_exporter": "python",
   "pygments_lexer": "ipython3",
   "version": "3.7.1"
  }
 },
 "nbformat": 4,
 "nbformat_minor": 2
}
