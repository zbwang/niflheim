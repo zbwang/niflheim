{
 "cells": [
  {
   "cell_type": "markdown",
   "metadata": {},
   "source": [
    "# Section-1: VASP Setup"
   ]
  },
  {
   "cell_type": "markdown",
   "metadata": {},
   "source": [
    "### The VASP binaries and pseudopotentials are provided in"
   ]
  },
  {
   "cell_type": "raw",
   "metadata": {},
   "source": [
    "/home/cat/my_username/bin/cattheory/vasp"
   ]
  },
  {
   "cell_type": "markdown",
   "metadata": {},
   "source": [
    "### on Niflheim. Note that $\\color{red}{\\text{my_username}}$ is my account name (not your's) on Niflheim. \n",
    "### You may find it by running"
   ]
  },
  {
   "cell_type": "markdown",
   "metadata": {},
   "source": [
    "ls ../"
   ]
  },
  {
   "cell_type": "markdown",
   "metadata": {},
   "source": [
    "### at your home directory"
   ]
  },
  {
   "cell_type": "markdown",
   "metadata": {},
   "source": [
    "# Method-ONE: Run VASP calculation from scratch.\n",
    "### copy"
   ]
  },
  {
   "cell_type": "raw",
   "metadata": {},
   "source": [
    "/home/cat/my_username/bin/cattheory/vasp/submit_script"
   ]
  },
  {
   "cell_type": "markdown",
   "metadata": {},
   "source": [
    "### into your vasp job folder and run"
   ]
  },
  {
   "cell_type": "raw",
   "metadata": {},
   "source": [
    "sbatch submit_script"
   ]
  },
  {
   "cell_type": "markdown",
   "metadata": {},
   "source": [
    "### to submit your jobs"
   ]
  },
  {
   "cell_type": "markdown",
   "metadata": {},
   "source": []
  },
  {
   "cell_type": "markdown",
   "metadata": {},
   "source": [
    "# Method-TWO: Use ASE to manage your VASP calculations"
   ]
  },
  {
   "cell_type": "raw",
   "metadata": {},
   "source": [
    "# ASE-VASP\n",
    "export VASP_PP_PATH=/home/cat/zwang/bin/cattheory/vasp/ase_psp\n",
    "export VASP_SCRIPT=/home/cat/zwang/bin/cattheory/vasp/run_vasp.py"
   ]
  },
  {
   "cell_type": "markdown",
   "metadata": {},
   "source": [
    "### add the above lines into your bashrc file. Then use the submit_script at "
   ]
  },
  {
   "cell_type": "raw",
   "metadata": {},
   "source": [
    "/home/cat/my_username/bin/cattheory/vasp/submit_script"
   ]
  },
  {
   "cell_type": "markdown",
   "metadata": {},
   "source": [
    "### to run VASP job"
   ]
  },
  {
   "cell_type": "code",
   "execution_count": null,
   "metadata": {},
   "outputs": [],
   "source": []
  },
  {
   "cell_type": "markdown",
   "metadata": {},
   "source": [
    "# Sectino-2: Run Jupyter notebook or Jupyter lab on Niflheim from your local laptop"
   ]
  },
  {
   "cell_type": "raw",
   "metadata": {},
   "source": [
    "module load jupyter"
   ]
  },
  {
   "cell_type": "markdown",
   "metadata": {},
   "source": [
    "### Run"
   ]
  },
  {
   "cell_type": "raw",
   "metadata": {},
   "source": [
    "jupyter notebook --port=8889"
   ]
  },
  {
   "cell_type": "markdown",
   "metadata": {},
   "source": [
    "### on a login node (for instance, sylg.fysik.dtu.dk). Write down the name of the login node you are running the jupyter"
   ]
  },
  {
   "cell_type": "markdown",
   "metadata": {},
   "source": [
    "### Open a terminal on your own laptop, and run"
   ]
  },
  {
   "cell_type": "raw",
   "metadata": {},
   "source": [
    "ssh -f -N -L 8889:localhost:8889 username@sylg.fysik.dtu.dk"
   ]
  },
  {
   "cell_type": "markdown",
   "metadata": {},
   "source": [
    "### You may save the above command line into a file, for example,"
   ]
  },
  {
   "cell_type": "raw",
   "metadata": {},
   "source": [
    "jupyter_notebook.sh"
   ]
  },
  {
   "cell_type": "markdown",
   "metadata": {},
   "source": [
    "### then run"
   ]
  },
  {
   "cell_type": "raw",
   "metadata": {},
   "source": [
    "bash jupyter_notebook.sh"
   ]
  },
  {
   "cell_type": "markdown",
   "metadata": {},
   "source": [
    "### in the terminal on your laptop"
   ]
  },
  {
   "cell_type": "code",
   "execution_count": null,
   "metadata": {},
   "outputs": [],
   "source": [
    "## 4. Copy/paste the URL generated in $\\color{red}{\\text{Step-2}}$ into your browser to connect the jupyter notebook on remote server"
   ]
  },
  {
   "cell_type": "code",
   "execution_count": null,
   "metadata": {},
   "outputs": [],
   "source": []
  },
  {
   "cell_type": "code",
   "execution_count": null,
   "metadata": {},
   "outputs": [],
   "source": []
  },
  {
   "cell_type": "markdown",
   "metadata": {},
   "source": []
  },
  {
   "cell_type": "markdown",
   "metadata": {},
   "source": []
  },
  {
   "cell_type": "code",
   "execution_count": null,
   "metadata": {},
   "outputs": [],
   "source": []
  },
  {
   "cell_type": "code",
   "execution_count": null,
   "metadata": {},
   "outputs": [],
   "source": [
    "# B"
   ]
  }
 ],
 "metadata": {
  "kernelspec": {
   "display_name": "Python 3",
   "language": "python",
   "name": "python3"
  },
  "language_info": {
   "codemirror_mode": {
    "name": "ipython",
    "version": 3
   },
   "file_extension": ".py",
   "mimetype": "text/x-python",
   "name": "python",
   "nbconvert_exporter": "python",
   "pygments_lexer": "ipython3",
   "version": "3.7.2"
  }
 },
 "nbformat": 4,
 "nbformat_minor": 2
}
