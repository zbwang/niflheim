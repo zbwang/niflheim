{
 "cells": [
  {
   "cell_type": "markdown",
   "metadata": {},
   "source": [
    "# The VASP binaries and pseudopotentials are provided in \"my_username/bin/cattheory/vasp\" on Niflheim.\n",
    "# $\\color{red}{\\text{my_username}}$ is my account name (not your's) on Niflheim. You may find it by running \"ls ../\" at your home directory."
   ]
  },
  {
   "cell_type": "markdown",
   "metadata": {},
   "source": [
    "# Method-ONE: Run VASP calculation from scratch.\n",
    "## Copy"
   ]
  },
  {
   "cell_type": "raw",
   "metadata": {},
   "source": [
    "/home/cat/my_username/bin/cattheory/vasp/submit_script"
   ]
  },
  {
   "cell_type": "markdown",
   "metadata": {},
   "source": [
    "## into your account"
   ]
  },
  {
   "cell_type": "markdown",
   "metadata": {},
   "source": [
    "# Method-TWO: Use ASE to manage your VASP calculations"
   ]
  },
  {
   "cell_type": "raw",
   "metadata": {},
   "source": [
    "# ASE-VASP\n",
    "export VASP_PP_PATH=/home/cat/zwang/bin/cattheory/vasp/ase_psp\n",
    "export VASP_SCRIPT=/home/cat/zwang/bin/cattheory/vasp/run_vasp.py"
   ]
  },
  {
   "cell_type": "markdown",
   "metadata": {},
   "source": [
    "## Add the above lines into your bashrc file. Then use the submit_script at "
   ]
  },
  {
   "cell_type": "raw",
   "metadata": {},
   "source": [
    "/home/cat/my_username/bin/cattheory/vasp/submit_script"
   ]
  },
  {
   "cell_type": "markdown",
   "metadata": {},
   "source": [
    "## to run VASP job"
   ]
  },
  {
   "cell_type": "code",
   "execution_count": null,
   "metadata": {},
   "outputs": [],
   "source": []
  }
 ],
 "metadata": {
  "kernelspec": {
   "display_name": "Python 3",
   "language": "python",
   "name": "python3"
  },
  "language_info": {
   "codemirror_mode": {
    "name": "ipython",
    "version": 3
   },
   "file_extension": ".py",
   "mimetype": "text/x-python",
   "name": "python",
   "nbconvert_exporter": "python",
   "pygments_lexer": "ipython3",
   "version": "3.7.2"
  }
 },
 "nbformat": 4,
 "nbformat_minor": 2
}
