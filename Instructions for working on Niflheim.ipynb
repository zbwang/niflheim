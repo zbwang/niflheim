{
 "cells": [
  {
   "cell_type": "markdown",
   "metadata": {},
   "source": [
    "# Section-1: VASP Setup"
   ]
  },
  {
   "cell_type": "markdown",
   "metadata": {},
   "source": [
    "### The VASP binaries and pseudopotentials are provided in"
   ]
  },
  {
   "cell_type": "raw",
   "metadata": {},
   "source": [
    "/home/cat/my_username/bin/cattheory/vasp"
   ]
  },
  {
   "cell_type": "markdown",
   "metadata": {},
   "source": [
    "### on Niflheim. Note that $\\color{red}{\\text{my_username}}$ is my account name (not your's) on Niflheim. \n",
    "### You may find it by running"
   ]
  },
  {
   "cell_type": "raw",
   "metadata": {},
   "source": [
    "ls ../"
   ]
  },
  {
   "cell_type": "markdown",
   "metadata": {},
   "source": [
    "### at your home directory"
   ]
  },
  {
   "cell_type": "markdown",
   "metadata": {},
   "source": [
    "# Method-ONE: Run VASP calculation from scratch.\n",
    "### copy"
   ]
  },
  {
   "cell_type": "raw",
   "metadata": {},
   "source": [
    "/home/cat/my_username/bin/cattheory/vasp/submit_script"
   ]
  },
  {
   "cell_type": "markdown",
   "metadata": {},
   "source": [
    "### into your vasp job folder and run"
   ]
  },
  {
   "cell_type": "raw",
   "metadata": {},
   "source": [
    "sbatch submit_script"
   ]
  },
  {
   "cell_type": "markdown",
   "metadata": {},
   "source": [
    "### to submit your jobs."
   ]
  },
  {
   "cell_type": "markdown",
   "metadata": {},
   "source": [
    "# Method-TWO: Use ASE to manage your VASP calculations"
   ]
  },
  {
   "cell_type": "raw",
   "metadata": {},
   "source": [
    "# ASE-VASP\n",
    "export VASP_PP_PATH=/home/cat/zwang/bin/cattheory/vasp/ase_psp\n",
    "export VASP_SCRIPT=/home/cat/zwang/bin/cattheory/vasp/run_vasp.py"
   ]
  },
  {
   "cell_type": "markdown",
   "metadata": {},
   "source": [
    "### add the above lines into your bashrc file. Then use the submit_script at "
   ]
  },
  {
   "cell_type": "raw",
   "metadata": {},
   "source": [
    "/home/cat/my_username/bin/cattheory/vasp/submit_script"
   ]
  },
  {
   "cell_type": "markdown",
   "metadata": {},
   "source": [
    "### to run VASP job."
   ]
  },
  {
   "cell_type": "code",
   "execution_count": null,
   "metadata": {},
   "outputs": [],
   "source": []
  },
  {
   "cell_type": "markdown",
   "metadata": {},
   "source": [
    "# Sectino-2: Run Jupyter notebook or Jupyter lab on Niflheim from your local laptop"
   ]
  },
  {
   "cell_type": "markdown",
   "metadata": {},
   "source": [
    "## 1. module load jupyter"
   ]
  },
  {
   "cell_type": "markdown",
   "metadata": {},
   "source": [
    "## 2. Run \"jupyter notebook --port=8889\" on a login node (for instance, sylg.fysik.dtu.dk)\n",
    "\n",
    "<span style=\"color:blue;font-size:18pt\"> Write down the name of the login node you are running the jupyter </span>"
   ]
  },
  {
   "cell_type": "markdown",
   "metadata": {},
   "source": [
    "## 3. Open a terminal on your own laptop, and run \n",
    "## \"ssh -f -N -L 8889:localhost:8889 username@sylg.fysik.dtu.dk\"\n",
    "\n",
    "<span style=\"color:blue;font-size:18pt\"> You may save the above command line into a file, for example, \"jupyter_notebook.sh\", and then run \"bash jupyter_notebook.sh\" in the terminal on your laptop </span>"
   ]
  },
  {
   "cell_type": "markdown",
   "metadata": {},
   "source": [
    "## 4. Copy/paste the URL generated in $\\color{red}{\\text{Step-2}}$ into your browser to connect the jupyter notebook on remote server"
   ]
  },
  {
   "cell_type": "code",
   "execution_count": null,
   "metadata": {},
   "outputs": [],
   "source": []
  }
 ],
 "metadata": {
  "kernelspec": {
   "display_name": "Python 3",
   "language": "python",
   "name": "python3"
  },
  "language_info": {
   "codemirror_mode": {
    "name": "ipython",
    "version": 3
   },
   "file_extension": ".py",
   "mimetype": "text/x-python",
   "name": "python",
   "nbconvert_exporter": "python",
   "pygments_lexer": "ipython3",
   "version": "3.7.2"
  }
 },
 "nbformat": 4,
 "nbformat_minor": 2
}
